{
 "cells": [
  {
   "cell_type": "code",
   "execution_count": 1,
   "id": "3d1ca35e",
   "metadata": {
    "execution": {
     "iopub.execute_input": "2023-11-27T14:55:49.323097Z",
     "iopub.status.busy": "2023-11-27T14:55:49.322414Z",
     "iopub.status.idle": "2023-11-27T14:55:59.619319Z",
     "shell.execute_reply": "2023-11-27T14:55:59.617689Z"
    },
    "papermill": {
     "duration": 10.306324,
     "end_time": "2023-11-27T14:55:59.621090",
     "exception": false,
     "start_time": "2023-11-27T14:55:49.314766",
     "status": "completed"
    },
    "tags": []
   },
   "outputs": [
    {
     "name": "stdout",
     "output_type": "stream",
     "text": [
      "/kaggle/input/digit-recognizer/sample_submission.csv\n",
      "/kaggle/input/digit-recognizer/train.csv\n",
      "/kaggle/input/digit-recognizer/test.csv\n"
     ]
    }
   ],
   "source": [
    "# using tensorflow backend\n",
    "\n",
    "import pandas as pd\n",
    "import numpy as np\n",
    "import matplotlib.pyplot as plt\n",
    "import matplotlib.image as mpimg\n",
    "import seaborn as sns\n",
    "%matplotlib inline\n",
    "\n",
    "\n",
    "\n",
    "np.random.seed(2)\n",
    "\n",
    "from sklearn.model_selection import train_test_split\n",
    "from sklearn.metrics import confusion_matrix\n",
    "import itertools\n",
    "\n",
    "from tensorflow.keras.utils import to_categorical\n",
    "from keras.models import Sequential\n",
    "from keras.layers import Dense, Dropout, Flatten, Conv2D, MaxPool2D\n",
    "from keras.optimizers import RMSprop\n",
    "from keras.preprocessing.image import ImageDataGenerator\n",
    "from keras.callbacks import ReduceLROnPlateau\n",
    "\n",
    "\n",
    "sns.set(style='white', context='notebook', palette='deep')\n",
    "\n",
    "import os\n",
    "for dirname, _, filenames in os.walk('/kaggle/input'):\n",
    "    for filename in filenames:\n",
    "        print(os.path.join(dirname, filename))\n",
    "        "
   ]
  },
  {
   "cell_type": "code",
   "execution_count": null,
   "id": "149111dd",
   "metadata": {
    "papermill": {
     "duration": 0.004984,
     "end_time": "2023-11-27T14:55:59.631647",
     "exception": false,
     "start_time": "2023-11-27T14:55:59.626663",
     "status": "completed"
    },
    "tags": []
   },
   "outputs": [],
   "source": [
    "\n"
   ]
  },
  {
   "cell_type": "code",
   "execution_count": 2,
   "id": "1f1078f4",
   "metadata": {
    "execution": {
     "iopub.execute_input": "2023-11-27T14:55:59.643727Z",
     "iopub.status.busy": "2023-11-27T14:55:59.643136Z",
     "iopub.status.idle": "2023-11-27T14:56:03.880353Z",
     "shell.execute_reply": "2023-11-27T14:56:03.878971Z"
    },
    "papermill": {
     "duration": 4.245828,
     "end_time": "2023-11-27T14:56:03.882572",
     "exception": false,
     "start_time": "2023-11-27T14:55:59.636744",
     "status": "completed"
    },
    "tags": []
   },
   "outputs": [
    {
     "data": {
      "image/png": "[encoded data removed]",
      "text/plain": [
       "<Figure size 640x480 with 1 Axes>"
      ]
     },
     "metadata": {},
     "output_type": "display_data"
    },
    {
     "data": {
      "text/plain": [
       "label\n",
       "1    4684\n",
       "7    4401\n",
       "3    4351\n",
       "9    4188\n",
       "2    4177\n",
       "6    4137\n",
       "0    4132\n",
       "4    4072\n",
       "8    4063\n",
       "5    3795\n",
       "Name: count, dtype: int64"
      ]
     },
     "execution_count": 2,
     "metadata": {},
     "output_type": "execute_result"
    }
   ],
   "source": [
    "#2 Data preparatoin\n",
    "\n",
    "# 2.1 Load data\n",
    "\n",
    "train = pd.read_csv(\"../input/digit-recognizer/train.csv\")\n",
    "test = pd.read_csv(\"../input/digit-recognizer/test.csv\")\n",
    "\n",
    "\n",
    "Y_train = train[\"label\"]\n",
    "\n",
    "#Drop label column\n",
    "\n",
    "X_train = train.drop(labels = ['label'],axis=1)\n",
    "\n",
    "# freeing space\n",
    "del train \n",
    "\n",
    "g = sns.countplot(Y_train)\n",
    "plt.show()\n",
    "\n",
    "Y_train.value_counts()\n",
    "\n",
    "\n",
    "# there are similar number of all digits"
   ]
  },
  {
   "cell_type": "code",
   "execution_count": 3,
   "id": "859c5737",
   "metadata": {
    "execution": {
     "iopub.execute_input": "2023-11-27T14:56:03.895939Z",
     "iopub.status.busy": "2023-11-27T14:56:03.895532Z",
     "iopub.status.idle": "2023-11-27T14:56:03.913002Z",
     "shell.execute_reply": "2023-11-27T14:56:03.912072Z"
    },
    "papermill": {
     "duration": 0.026533,
     "end_time": "2023-11-27T14:56:03.915019",
     "exception": false,
     "start_time": "2023-11-27T14:56:03.888486",
     "status": "completed"
    },
    "tags": []
   },
   "outputs": [
    {
     "data": {
      "text/plain": [
       "count       784\n",
       "unique        1\n",
       "top       False\n",
       "freq        784\n",
       "dtype: object"
      ]
     },
     "execution_count": 3,
     "metadata": {},
     "output_type": "execute_result"
    }
   ],
   "source": [
    "# 2.2 checking for missing and null values\n",
    "\n",
    "X_train.isnull().any().describe()"
   ]
  },
  {
   "cell_type": "code",
   "execution_count": 4,
   "id": "1d8a3d52",
   "metadata": {
    "execution": {
     "iopub.execute_input": "2023-11-27T14:56:03.928615Z",
     "iopub.status.busy": "2023-11-27T14:56:03.928250Z",
     "iopub.status.idle": "2023-11-27T14:56:03.939227Z",
     "shell.execute_reply": "2023-11-27T14:56:03.938255Z"
    },
    "papermill": {
     "duration": 0.019934,
     "end_time": "2023-11-27T14:56:03.941190",
     "exception": false,
     "start_time": "2023-11-27T14:56:03.921256",
     "status": "completed"
    },
    "tags": []
   },
   "outputs": [
    {
     "data": {
      "text/plain": [
       "count       784\n",
       "unique        1\n",
       "top       False\n",
       "freq        784\n",
       "dtype: object"
      ]
     },
     "execution_count": 4,
     "metadata": {},
     "output_type": "execute_result"
    }
   ],
   "source": [
    "test.isnull().any().describe()\n",
    "# There is no missing values in the train and test dataset. So we can safely go ahead."
   ]
  },
  {
   "cell_type": "code",
   "execution_count": 5,
   "id": "9f3bfc97",
   "metadata": {
    "execution": {
     "iopub.execute_input": "2023-11-27T14:56:03.955050Z",
     "iopub.status.busy": "2023-11-27T14:56:03.954688Z",
     "iopub.status.idle": "2023-11-27T14:56:04.021271Z",
     "shell.execute_reply": "2023-11-27T14:56:04.020364Z"
    },
    "papermill": {
     "duration": 0.076053,
     "end_time": "2023-11-27T14:56:04.023567",
     "exception": false,
     "start_time": "2023-11-27T14:56:03.947514",
     "status": "completed"
    },
    "tags": []
   },
   "outputs": [],
   "source": [
    "#2.3 Normalization\n",
    "\n",
    "# We perform a grayscale normalization to reduce the effect of illumination's differences.\n",
    "\n",
    "#also the CNN converg faster on [0..1] data than on [0..255].\n",
    "\n",
    "X_train = X_train/255.0\n",
    "test = test / 255.0"
   ]
  },
  {
   "cell_type": "code",
   "execution_count": 6,
   "id": "5dad9486",
   "metadata": {
    "execution": {
     "iopub.execute_input": "2023-11-27T14:56:04.036796Z",
     "iopub.status.busy": "2023-11-27T14:56:04.036507Z",
     "iopub.status.idle": "2023-11-27T14:56:04.041680Z",
     "shell.execute_reply": "2023-11-27T14:56:04.040638Z"
    },
    "papermill": {
     "duration": 0.01385,
     "end_time": "2023-11-27T14:56:04.043428",
     "exception": false,
     "start_time": "2023-11-27T14:56:04.029578",
     "status": "completed"
    },
    "tags": []
   },
   "outputs": [],
   "source": [
    "# 2.4 reshape\n",
    "\n",
    "# Train and test images (28px x 28px) has been stock into pandas.Dataframe as 1D vectors of 784 values. We reshape all data to 28x28x1 3D matrices.\n",
    "\n",
    "X_train = X_train.values.reshape(-1,28,28,1) #28x28x1 (greyscale (1)..(3 for rgb))\n",
    "test = test.values.reshape(-1,28,28,1)"
   ]
  },
  {
   "cell_type": "code",
   "execution_count": 7,
   "id": "01cbbc18",
   "metadata": {
    "execution": {
     "iopub.execute_input": "2023-11-27T14:56:04.057048Z",
     "iopub.status.busy": "2023-11-27T14:56:04.056704Z",
     "iopub.status.idle": "2023-11-27T14:56:04.062033Z",
     "shell.execute_reply": "2023-11-27T14:56:04.061158Z"
    },
    "papermill": {
     "duration": 0.0143,
     "end_time": "2023-11-27T14:56:04.063783",
     "exception": false,
     "start_time": "2023-11-27T14:56:04.049483",
     "status": "completed"
    },
    "tags": []
   },
   "outputs": [],
   "source": [
    "# 2.5 Label encoding\n",
    "\n",
    "# Encode labels to one hot vectors (ex : 2 -> [0,0,1,0,0,0,0,0,0,0])\n",
    "Y_train = to_categorical(Y_train, num_classes = 10)"
   ]
  },
  {
   "cell_type": "code",
   "execution_count": 8,
   "id": "f4849af0",
   "metadata": {
    "execution": {
     "iopub.execute_input": "2023-11-27T14:56:04.077512Z",
     "iopub.status.busy": "2023-11-27T14:56:04.077155Z",
     "iopub.status.idle": "2023-11-27T14:56:04.309043Z",
     "shell.execute_reply": "2023-11-27T14:56:04.307555Z"
    },
    "papermill": {
     "duration": 0.241503,
     "end_time": "2023-11-27T14:56:04.311424",
     "exception": false,
     "start_time": "2023-11-27T14:56:04.069921",
     "status": "completed"
    },
    "tags": []
   },
   "outputs": [],
   "source": [
    "# 2.6 Split training and valdiation set\n",
    "\n",
    "random_seed = 2\n",
    "\n",
    "# Split the train and the validation set for the fitting\n",
    "X_train, X_val, Y_train, Y_val = train_test_split(X_train, Y_train, test_size = 0.1, random_state=random_seed)"
   ]
  },
  {
   "cell_type": "code",
   "execution_count": 9,
   "id": "28657f04",
   "metadata": {
    "execution": {
     "iopub.execute_input": "2023-11-27T14:56:04.325513Z",
     "iopub.status.busy": "2023-11-27T14:56:04.325159Z",
     "iopub.status.idle": "2023-11-27T14:56:04.575952Z",
     "shell.execute_reply": "2023-11-27T14:56:04.574971Z"
    },
    "papermill": {
     "duration": 0.260617,
     "end_time": "2023-11-27T14:56:04.578318",
     "exception": false,
     "start_time": "2023-11-27T14:56:04.317701",
     "status": "completed"
    },
    "tags": []
   },
   "outputs": [
    {
     "data": {
      "image/png": "[encoded data removed]",
      "text/plain": [
       "<Figure size 640x480 with 1 Axes>"
      ]
     },
     "metadata": {},
     "output_type": "display_data"
    }
   ],
   "source": [
    "# Some examples\n",
    "g = plt.imshow(X_train[0][:,:,0])"
   ]
  },
  {
   "cell_type": "code",
   "execution_count": 10,
   "id": "b0aee19f",
   "metadata": {
    "execution": {
     "iopub.execute_input": "2023-11-27T14:56:04.591745Z",
     "iopub.status.busy": "2023-11-27T14:56:04.591444Z",
     "iopub.status.idle": "2023-11-27T14:56:04.820227Z",
     "shell.execute_reply": "2023-11-27T14:56:04.819337Z"
    },
    "papermill": {
     "duration": 0.238028,
     "end_time": "2023-11-27T14:56:04.822559",
     "exception": false,
     "start_time": "2023-11-27T14:56:04.584531",
     "status": "completed"
    },
    "tags": []
   },
   "outputs": [],
   "source": [
    "# 3. CNN \n",
    "\n",
    "# 3.1 Define the model\n",
    "\n",
    "# Set the CNN model \n",
    "# CNN architechture is In -> [[Conv2D->relu]*2 -> MaxPool2D -> Dropout]*2 -> Flatten -> Dense -> Dropout -> Out\n",
    "\n",
    "model = Sequential() # multiple sequential layers\n",
    "\n",
    "\n",
    "# convolutional layers with 32 filters, 5x5 size, and padding of (5-1)/2=2 (same it is called),activation function relu (max(x,0))\n",
    "model.add(Conv2D(filters = 32, kernel_size = (5,5),padding = 'Same', \n",
    "                 activation ='relu', input_shape = (28,28,1)))\n",
    "\n",
    "\n",
    "model.add(Conv2D(filters = 32, kernel_size = (5,5),padding = 'Same', \n",
    "                 activation ='relu'))\n",
    "\n",
    "model.add(MaxPool2D(pool_size=(2,2))) # stride for max-pooling is (2, 2) default (same as pool_size)\n",
    "\n",
    "model.add(Dropout(0.25)) #25% dropout\n",
    "\n",
    "\n",
    "model.add(Conv2D(filters = 64, kernel_size = (3,3),padding = 'Same', \n",
    "                 activation ='relu'))\n",
    "\n",
    "model.add(Conv2D(filters = 64, kernel_size = (3,3),padding = 'Same', \n",
    "                 activation ='relu'))\n",
    "\n",
    "\n",
    "model.add(MaxPool2D(pool_size=(2,2), strides=(2,2))) # here stride has been explicitly defined as 2,2 and not default pool_size\n",
    "\n",
    "model.add(Dropout(0.25)) \n",
    "\n",
    "\n",
    "model.add(Flatten())\n",
    "\n",
    "model.add(Dense(256, activation = \"relu\")) # 256 units relu activation neural network\n",
    "\n",
    "model.add(Dropout(0.5)) #50% dropout\n",
    "\n",
    "model.add(Dense(10, activation = \"softmax\"))"
   ]
  },
  {
   "cell_type": "code",
   "execution_count": 11,
   "id": "5f9fd1b4",
   "metadata": {
    "execution": {
     "iopub.execute_input": "2023-11-27T14:56:04.837961Z",
     "iopub.status.busy": "2023-11-27T14:56:04.837590Z",
     "iopub.status.idle": "2023-11-27T14:56:04.842762Z",
     "shell.execute_reply": "2023-11-27T14:56:04.841671Z"
    },
    "papermill": {
     "duration": 0.015506,
     "end_time": "2023-11-27T14:56:04.845162",
     "exception": false,
     "start_time": "2023-11-27T14:56:04.829656",
     "status": "completed"
    },
    "tags": []
   },
   "outputs": [],
   "source": [
    "# 3.2 Set the optimizer and annealer \n",
    "\n",
    "# Define the optimizer\n",
    "optimizer = RMSprop(learning_rate=0.001, rho=0.9, epsilon=1e-08, decay=0.0)\n",
    "\n"
   ]
  },
  {
   "cell_type": "code",
   "execution_count": 12,
   "id": "60be3083",
   "metadata": {
    "execution": {
     "iopub.execute_input": "2023-11-27T14:56:04.859528Z",
     "iopub.status.busy": "2023-11-27T14:56:04.859180Z",
     "iopub.status.idle": "2023-11-27T14:56:04.874983Z",
     "shell.execute_reply": "2023-11-27T14:56:04.874044Z"
    },
    "papermill": {
     "duration": 0.025494,
     "end_time": "2023-11-27T14:56:04.877245",
     "exception": false,
     "start_time": "2023-11-27T14:56:04.851751",
     "status": "completed"
    },
    "tags": []
   },
   "outputs": [],
   "source": [
    "# Compile the model\n",
    "model.compile(optimizer = optimizer , loss = \"categorical_crossentropy\", metrics=[\"accuracy\"])"
   ]
  },
  {
   "cell_type": "code",
   "execution_count": 13,
   "id": "12191017",
   "metadata": {
    "execution": {
     "iopub.execute_input": "2023-11-27T14:56:04.891984Z",
     "iopub.status.busy": "2023-11-27T14:56:04.891598Z",
     "iopub.status.idle": "2023-11-27T14:56:04.896621Z",
     "shell.execute_reply": "2023-11-27T14:56:04.895325Z"
    },
    "papermill": {
     "duration": 0.01446,
     "end_time": "2023-11-27T14:56:04.898341",
     "exception": false,
     "start_time": "2023-11-27T14:56:04.883881",
     "status": "completed"
    },
    "tags": []
   },
   "outputs": [],
   "source": [
    "# Set a learning rate annealer\n",
    "learning_rate_reduction = ReduceLROnPlateau(monitor='val_accuracy', \n",
    "                                            patience=3, \n",
    "                                            verbose=1, \n",
    "                                            factor=0.5, \n",
    "                                            min_lr=0.00001)"
   ]
  },
  {
   "cell_type": "code",
   "execution_count": 14,
   "id": "7cd5f994",
   "metadata": {
    "execution": {
     "iopub.execute_input": "2023-11-27T14:56:04.912281Z",
     "iopub.status.busy": "2023-11-27T14:56:04.911934Z",
     "iopub.status.idle": "2023-11-27T14:56:04.918530Z",
     "shell.execute_reply": "2023-11-27T14:56:04.917383Z"
    },
    "papermill": {
     "duration": 0.016325,
     "end_time": "2023-11-27T14:56:04.921004",
     "exception": false,
     "start_time": "2023-11-27T14:56:04.904679",
     "status": "completed"
    },
    "tags": []
   },
   "outputs": [],
   "source": [
    "epochs = 1 # Turn epochs to 30 to get 0.9967 accuracy\n",
    "batch_size = 86"
   ]
  },
  {
   "cell_type": "code",
   "execution_count": 15,
   "id": "e29facb6",
   "metadata": {
    "execution": {
     "iopub.execute_input": "2023-11-27T14:56:04.935717Z",
     "iopub.status.busy": "2023-11-27T14:56:04.935363Z",
     "iopub.status.idle": "2023-11-27T14:57:51.173097Z",
     "shell.execute_reply": "2023-11-27T14:57:51.171960Z"
    },
    "papermill": {
     "duration": 106.251324,
     "end_time": "2023-11-27T14:57:51.178994",
     "exception": false,
     "start_time": "2023-11-27T14:56:04.927670",
     "status": "completed"
    },
    "tags": []
   },
   "outputs": [
    {
     "name": "stdout",
     "output_type": "stream",
     "text": [
      "440/440 - 106s - loss: 0.2355 - accuracy: 0.9249 - val_loss: 0.0606 - val_accuracy: 0.9812 - 106s/epoch - 241ms/step\n"
     ]
    }
   ],
   "source": [
    "# 3.3 Data augmentation\n",
    "\n",
    "# Without data augmentation i obtained an accuracy of 0.98114\n",
    "history = model.fit(X_train, Y_train, batch_size = batch_size, epochs = epochs, \n",
    "         validation_data = (X_val, Y_val), verbose = 2)"
   ]
  },
  {
   "cell_type": "code",
   "execution_count": 16,
   "id": "e1740b74",
   "metadata": {
    "execution": {
     "iopub.execute_input": "2023-11-27T14:57:51.193130Z",
     "iopub.status.busy": "2023-11-27T14:57:51.192590Z",
     "iopub.status.idle": "2023-11-27T14:57:51.253863Z",
     "shell.execute_reply": "2023-11-27T14:57:51.252916Z"
    },
    "papermill": {
     "duration": 0.070972,
     "end_time": "2023-11-27T14:57:51.256175",
     "exception": false,
     "start_time": "2023-11-27T14:57:51.185203",
     "status": "completed"
    },
    "tags": []
   },
   "outputs": [],
   "source": [
    "# With data augmentation to prevent overfitting (accuracy 0.99286)\n",
    "\n",
    "datagen = ImageDataGenerator(\n",
    "        featurewise_center=False,  # set input mean to 0 over the dataset\n",
    "        samplewise_center=False,  # set each sample mean to 0\n",
    "        featurewise_std_normalization=False,  # divide inputs by std of the dataset\n",
    "        samplewise_std_normalization=False,  # divide each input by its std\n",
    "        zca_whitening=False,  # apply ZCA whitening\n",
    "        rotation_range=10,  # randomly rotate images in the range (degrees, 0 to 180)\n",
    "        zoom_range = 0.1, # Randomly zoom image \n",
    "        width_shift_range=0.1,  # randomly shift images horizontally (fraction of total width)\n",
    "        height_shift_range=0.1,  # randomly shift images vertically (fraction of total height)\n",
    "        horizontal_flip=False,  # randomly flip images\n",
    "        vertical_flip=False)  # randomly flip images\n",
    "\n",
    "\n",
    "datagen.fit(X_train)"
   ]
  },
  {
   "cell_type": "code",
   "execution_count": 17,
   "id": "c4cd319a",
   "metadata": {
    "execution": {
     "iopub.execute_input": "2023-11-27T14:57:51.270248Z",
     "iopub.status.busy": "2023-11-27T14:57:51.269581Z",
     "iopub.status.idle": "2023-11-27T14:57:51.275027Z",
     "shell.execute_reply": "2023-11-27T14:57:51.273864Z"
    },
    "papermill": {
     "duration": 0.014305,
     "end_time": "2023-11-27T14:57:51.276911",
     "exception": false,
     "start_time": "2023-11-27T14:57:51.262606",
     "status": "completed"
    },
    "tags": []
   },
   "outputs": [],
   "source": [
    "# For the data augmentation, i choosed to :\n",
    "\n",
    "# Randomly rotate some training images by 10 degrees\n",
    "# Randomly Zoom by 10% some training images\n",
    "# Randomly shift images horizontally by 10% of the width\n",
    "# Randomly shift images vertically by 10% of the height\n",
    "# I did not apply a vertical_flip nor horizontal_flip since it could have lead to misclassify symetrical numbers such as 6 and 9.\n",
    "\n",
    "# Once our model is ready, we fit the training dataset ."
   ]
  },
  {
   "cell_type": "code",
   "execution_count": 18,
   "id": "16a1a1c1",
   "metadata": {
    "execution": {
     "iopub.execute_input": "2023-11-27T14:57:51.291730Z",
     "iopub.status.busy": "2023-11-27T14:57:51.290684Z",
     "iopub.status.idle": "2023-11-27T14:59:39.676139Z",
     "shell.execute_reply": "2023-11-27T14:59:39.675383Z"
    },
    "papermill": {
     "duration": 108.39807,
     "end_time": "2023-11-27T14:59:39.681460",
     "exception": false,
     "start_time": "2023-11-27T14:57:51.283390",
     "status": "completed"
    },
    "tags": []
   },
   "outputs": [
    {
     "name": "stdout",
     "output_type": "stream",
     "text": [
      "439/439 - 108s - loss: 0.1729 - accuracy: 0.9477 - val_loss: 0.0504 - val_accuracy: 0.9850 - lr: 0.0010 - 108s/epoch - 247ms/step\n"
     ]
    }
   ],
   "source": [
    "# Fit the model\n",
    "history = model.fit(datagen.flow(X_train,Y_train, batch_size=batch_size),\n",
    "                              epochs = epochs, validation_data = (X_val,Y_val),\n",
    "                              verbose = 2, steps_per_epoch=X_train.shape[0] // batch_size\n",
    "                              , callbacks=[learning_rate_reduction])"
   ]
  },
  {
   "cell_type": "code",
   "execution_count": 19,
   "id": "a3a04ceb",
   "metadata": {
    "execution": {
     "iopub.execute_input": "2023-11-27T14:59:39.695950Z",
     "iopub.status.busy": "2023-11-27T14:59:39.694818Z",
     "iopub.status.idle": "2023-11-27T14:59:39.699890Z",
     "shell.execute_reply": "2023-11-27T14:59:39.698886Z"
    },
    "papermill": {
     "duration": 0.014242,
     "end_time": "2023-11-27T14:59:39.701819",
     "exception": false,
     "start_time": "2023-11-27T14:59:39.687577",
     "status": "completed"
    },
    "tags": []
   },
   "outputs": [
    {
     "name": "stdout",
     "output_type": "stream",
     "text": [
      "dict_keys(['loss', 'accuracy', 'val_loss', 'val_accuracy', 'lr'])\n"
     ]
    }
   ],
   "source": [
    "print(history.history.keys())\n"
   ]
  },
  {
   "cell_type": "code",
   "execution_count": 20,
   "id": "ea0887b6",
   "metadata": {
    "execution": {
     "iopub.execute_input": "2023-11-27T14:59:39.715768Z",
     "iopub.status.busy": "2023-11-27T14:59:39.715473Z",
     "iopub.status.idle": "2023-11-27T14:59:40.157767Z",
     "shell.execute_reply": "2023-11-27T14:59:40.156428Z"
    },
    "papermill": {
     "duration": 0.451639,
     "end_time": "2023-11-27T14:59:40.159721",
     "exception": false,
     "start_time": "2023-11-27T14:59:39.708082",
     "status": "completed"
    },
    "tags": []
   },
   "outputs": [
    {
     "data": {
      "image/png": "[encoded data removed]",
      "text/plain": [
       "<Figure size 640x480 with 2 Axes>"
      ]
     },
     "metadata": {},
     "output_type": "display_data"
    }
   ],
   "source": [
    "# 4. Evaluate the model\n",
    "# 4.1 Training and validation curves\n",
    "\n",
    "# Plot the loss and accuracy curves for training and validation \n",
    "fig, ax = plt.subplots(2,1)\n",
    "ax[0].plot(history.history['loss'], color='b', label=\"Training loss\")\n",
    "ax[0].plot(history.history['val_loss'], color='r', label=\"validation loss\",axes =ax[0])\n",
    "legend = ax[0].legend(loc='best', shadow=True)\n",
    "\n",
    "ax[1].plot(history.history['accuracy'], color='b', label=\"Training accuracy\")\n",
    "ax[1].plot(history.history['val_accuracy'], color='r',label=\"Validation accuracy\")\n",
    "legend = ax[1].legend(loc='best', shadow=True)"
   ]
  },
  {
   "cell_type": "code",
   "execution_count": 21,
   "id": "467824c0",
   "metadata": {
    "execution": {
     "iopub.execute_input": "2023-11-27T14:59:40.174232Z",
     "iopub.status.busy": "2023-11-27T14:59:40.173885Z",
     "iopub.status.idle": "2023-11-27T14:59:43.522264Z",
     "shell.execute_reply": "2023-11-27T14:59:43.521295Z"
    },
    "papermill": {
     "duration": 3.357991,
     "end_time": "2023-11-27T14:59:43.524389",
     "exception": false,
     "start_time": "2023-11-27T14:59:40.166398",
     "status": "completed"
    },
    "tags": []
   },
   "outputs": [
    {
     "name": "stdout",
     "output_type": "stream",
     "text": [
      "132/132 [==============================] - 3s 20ms/step\n"
     ]
    },
    {
     "data": {
      "image/png": "[encoded data removed]",
      "text/plain": [
       "<Figure size 640x480 with 2 Axes>"
      ]
     },
     "metadata": {},
     "output_type": "display_data"
    }
   ],
   "source": [
    "# Look at confusion matrix \n",
    "\n",
    "def plot_confusion_matrix(cm, classes,\n",
    "                          normalize=False,\n",
    "                          title='Confusion matrix',\n",
    "                          cmap=plt.cm.Blues):\n",
    "    \"\"\"\n",
    "    This function prints and plots the confusion matrix.\n",
    "    Normalization can be applied by setting `normalize=True`.\n",
    "    \"\"\"\n",
    "    plt.imshow(cm, interpolation='nearest', cmap=cmap)\n",
    "    plt.title(title)\n",
    "    plt.colorbar()\n",
    "    tick_marks = np.arange(len(classes))\n",
    "    plt.xticks(tick_marks, classes, rotation=45)\n",
    "    plt.yticks(tick_marks, classes)\n",
    "\n",
    "    if normalize:\n",
    "        cm = cm.astype('float') / cm.sum(axis=1)[:, np.newaxis]\n",
    "\n",
    "    thresh = cm.max() / 2.\n",
    "    for i, j in itertools.product(range(cm.shape[0]), range(cm.shape[1])):\n",
    "        plt.text(j, i, cm[i, j],\n",
    "                 horizontalalignment=\"center\",\n",
    "                 color=\"white\" if cm[i, j] > thresh else \"black\")\n",
    "\n",
    "    plt.tight_layout()\n",
    "    plt.ylabel('True label')\n",
    "    plt.xlabel('Predicted label')\n",
    "\n",
    "# Predict the values from the validation dataset\n",
    "Y_pred = model.predict(X_val)\n",
    "# Convert predictions classes to one hot vectors \n",
    "Y_pred_classes = np.argmax(Y_pred,axis = 1) \n",
    "# Convert validation observations to one hot vectors\n",
    "Y_true = np.argmax(Y_val,axis = 1) \n",
    "# compute the confusion matrix\n",
    "confusion_mtx = confusion_matrix(Y_true, Y_pred_classes) \n",
    "# plot the confusion matrix\n",
    "plot_confusion_matrix(confusion_mtx, classes = range(10)) "
   ]
  },
  {
   "cell_type": "code",
   "execution_count": 22,
   "id": "76ffdee8",
   "metadata": {
    "execution": {
     "iopub.execute_input": "2023-11-27T14:59:43.545635Z",
     "iopub.status.busy": "2023-11-27T14:59:43.545282Z",
     "iopub.status.idle": "2023-11-27T14:59:44.513696Z",
     "shell.execute_reply": "2023-11-27T14:59:44.513077Z"
    },
    "papermill": {
     "duration": 0.981146,
     "end_time": "2023-11-27T14:59:44.515366",
     "exception": false,
     "start_time": "2023-11-27T14:59:43.534220",
     "status": "completed"
    },
    "tags": []
   },
   "outputs": [
    {
     "data": {
      "image/png": "[encoded data removed]",
      "text/plain": [
       "<Figure size 640x480 with 6 Axes>"
      ]
     },
     "metadata": {},
     "output_type": "display_data"
    }
   ],
   "source": [
    "# Display some error results \n",
    "\n",
    "# Errors are difference between predicted labels and true labels\n",
    "errors = (Y_pred_classes - Y_true != 0)\n",
    "\n",
    "Y_pred_classes_errors = Y_pred_classes[errors]\n",
    "Y_pred_errors = Y_pred[errors]\n",
    "Y_true_errors = Y_true[errors]\n",
    "X_val_errors = X_val[errors]\n",
    "\n",
    "def display_errors(errors_index,img_errors,pred_errors, obs_errors):\n",
    "    \"\"\" This function shows 6 images with their predicted and real labels\"\"\"\n",
    "    n = 0\n",
    "    nrows = 2\n",
    "    ncols = 3\n",
    "    fig, ax = plt.subplots(nrows,ncols,sharex=True,sharey=True)\n",
    "    for row in range(nrows):\n",
    "        for col in range(ncols):\n",
    "            error = errors_index[n]\n",
    "            ax[row,col].imshow((img_errors[error]).reshape((28,28)))\n",
    "            ax[row,col].set_title(\"Predicted label :{}\\nTrue label :{}\".format(pred_errors[error],obs_errors[error]))\n",
    "            n += 1\n",
    "\n",
    "# Probabilities of the wrong predicted numbers\n",
    "Y_pred_errors_prob = np.max(Y_pred_errors,axis = 1)\n",
    "\n",
    "# Predicted probabilities of the true values in the error set\n",
    "true_prob_errors = np.diagonal(np.take(Y_pred_errors, Y_true_errors, axis=1))\n",
    "\n",
    "# Difference between the probability of the predicted label and the true label\n",
    "delta_pred_true_errors = Y_pred_errors_prob - true_prob_errors\n",
    "\n",
    "# Sorted list of the delta prob errors\n",
    "sorted_dela_errors = np.argsort(delta_pred_true_errors)\n",
    "\n",
    "# Top 6 errors \n",
    "most_important_errors = sorted_dela_errors[-6:]\n",
    "\n",
    "# Show the top 6 errors\n",
    "display_errors(most_important_errors, X_val_errors, Y_pred_classes_errors, Y_true_errors)"
   ]
  },
  {
   "cell_type": "code",
   "execution_count": 23,
   "id": "25e28a31",
   "metadata": {
    "execution": {
     "iopub.execute_input": "2023-11-27T14:59:44.537725Z",
     "iopub.status.busy": "2023-11-27T14:59:44.536903Z",
     "iopub.status.idle": "2023-11-27T15:00:02.637171Z",
     "shell.execute_reply": "2023-11-27T15:00:02.636049Z"
    },
    "papermill": {
     "duration": 18.113945,
     "end_time": "2023-11-27T15:00:02.639505",
     "exception": false,
     "start_time": "2023-11-27T14:59:44.525560",
     "status": "completed"
    },
    "tags": []
   },
   "outputs": [
    {
     "name": "stdout",
     "output_type": "stream",
     "text": [
      "875/875 [==============================] - 18s 20ms/step\n"
     ]
    }
   ],
   "source": [
    "# predict results\n",
    "results = model.predict(test)\n",
    "\n",
    "# select the indix with the maximum probability\n",
    "results = np.argmax(results,axis = 1)\n",
    "\n",
    "results = pd.Series(results,name=\"Label\")"
   ]
  },
  {
   "cell_type": "code",
   "execution_count": 24,
   "id": "8a64b55c",
   "metadata": {
    "execution": {
     "iopub.execute_input": "2023-11-27T15:00:02.693920Z",
     "iopub.status.busy": "2023-11-27T15:00:02.693538Z",
     "iopub.status.idle": "2023-11-27T15:00:02.728054Z",
     "shell.execute_reply": "2023-11-27T15:00:02.727024Z"
    },
    "papermill": {
     "duration": 0.064667,
     "end_time": "2023-11-27T15:00:02.730344",
     "exception": false,
     "start_time": "2023-11-27T15:00:02.665677",
     "status": "completed"
    },
    "tags": []
   },
   "outputs": [],
   "source": [
    "submission = pd.concat([pd.Series(range(1,28001),name = \"ImageId\"),results],axis = 1)\n",
    "\n",
    "submission.to_csv(\"cnn_mnist_datagen.csv\",index=False)"
   ]
  }
 ],
 "metadata": {
  "kaggle": {
   "accelerator": "none",
   "dataSources": [
    {
     "databundleVersionId": 861823,
     "sourceId": 3004,
     "sourceType": "competition"
    }
   ],
   "dockerImageVersionId": 30558,
   "isGpuEnabled": false,
   "isInternetEnabled": true,
   "language": "python",
   "sourceType": "notebook"
  },
  "kernelspec": {
   "display_name": "Python 3",
   "language": "python",
   "name": "python3"
  },
  "language_info": {
   "codemirror_mode": {
    "name": "ipython",
    "version": 3
   },
   "file_extension": ".py",
   "mimetype": "text/x-python",
   "name": "python",
   "nbconvert_exporter": "python",
   "pygments_lexer": "ipython3",
   "version": "3.10.12"
  },
  "papermill": {
   "default_parameters": {},
   "duration": 258.50066,
   "end_time": "2023-11-27T15:00:04.536447",
   "environment_variables": {},
   "exception": null,
   "input_path": "__notebook__.ipynb",
   "output_path": "__notebook__.ipynb",
   "parameters": {},
   "start_time": "2023-11-27T14:55:46.035787",
   "version": "2.4.0"
  }
 },
 "nbformat": 4,
 "nbformat_minor": 5
}
